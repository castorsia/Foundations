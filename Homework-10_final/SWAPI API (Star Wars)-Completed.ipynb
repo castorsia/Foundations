{
 "cells": [
  {
   "cell_type": "markdown",
   "metadata": {},
   "source": [
    "# SWAPI (Star Wars)\n",
    "\n",
    "Answer the following questions using the [Dark Sky API](https://swapi.co/). I've added three cells for each question but you're free to use more or less! Hold `Shift` and hit `Enter` to run a cell, and use the `+` on the top left to add a new cell to a notebook.\n",
    "\n",
    "If you spend some time reading the documentation your life will probably be a little bit easier!\n",
    "\n",
    "## 0) Import any libraries you might need\n",
    "\n",
    "- *Tip: We're going to be downloading things from the internet, so we probably need `requests`.*"
   ]
  },
  {
   "cell_type": "code",
   "execution_count": 1,
   "metadata": {},
   "outputs": [],
   "source": [
    "import requests"
   ]
  },
  {
   "cell_type": "code",
   "execution_count": null,
   "metadata": {},
   "outputs": [],
   "source": []
  },
  {
   "cell_type": "markdown",
   "metadata": {},
   "source": [
    "## 1) Make a request to the Star Wars API\n",
    "\n",
    "I've heard there's a new Star Wars film called **Solo**, but it isn't in SWAPI!\n",
    "\n",
    "The most recent film it contains has an ID of 7. Make a request for that film and look at the data."
   ]
  },
  {
   "cell_type": "code",
   "execution_count": 5,
   "metadata": {},
   "outputs": [
    {
     "data": {
      "text/plain": [
       "{'characters': ['https://swapi.co/api/people/1/',\n",
       "  'https://swapi.co/api/people/3/',\n",
       "  'https://swapi.co/api/people/5/',\n",
       "  'https://swapi.co/api/people/13/',\n",
       "  'https://swapi.co/api/people/14/',\n",
       "  'https://swapi.co/api/people/27/',\n",
       "  'https://swapi.co/api/people/84/',\n",
       "  'https://swapi.co/api/people/85/',\n",
       "  'https://swapi.co/api/people/86/',\n",
       "  'https://swapi.co/api/people/87/',\n",
       "  'https://swapi.co/api/people/88/'],\n",
       " 'created': '2015-04-17T06:51:30.504780Z',\n",
       " 'director': 'J. J. Abrams',\n",
       " 'edited': '2015-12-17T14:31:47.617768Z',\n",
       " 'episode_id': 7,\n",
       " 'opening_crawl': \"Luke Skywalker has vanished.\\r\\nIn his absence, the sinister\\r\\nFIRST ORDER has risen from\\r\\nthe ashes of the Empire\\r\\nand will not rest until\\r\\nSkywalker, the last Jedi,\\r\\nhas been destroyed.\\r\\n \\r\\nWith the support of the\\r\\nREPUBLIC, General Leia Organa\\r\\nleads a brave RESISTANCE.\\r\\nShe is desperate to find her\\r\\nbrother Luke and gain his\\r\\nhelp in restoring peace and\\r\\njustice to the galaxy.\\r\\n \\r\\nLeia has sent her most daring\\r\\npilot on a secret mission\\r\\nto Jakku, where an old ally\\r\\nhas discovered a clue to\\r\\nLuke's whereabouts....\",\n",
       " 'planets': ['https://swapi.co/api/planets/61/'],\n",
       " 'producer': 'Kathleen Kennedy, J. J. Abrams, Bryan Burk',\n",
       " 'release_date': '2015-12-11',\n",
       " 'species': ['https://swapi.co/api/species/3/',\n",
       "  'https://swapi.co/api/species/2/',\n",
       "  'https://swapi.co/api/species/1/'],\n",
       " 'starships': ['https://swapi.co/api/starships/77/',\n",
       "  'https://swapi.co/api/starships/10/'],\n",
       " 'title': 'The Force Awakens',\n",
       " 'url': 'https://swapi.co/api/films/7/',\n",
       " 'vehicles': []}"
      ]
     },
     "execution_count": 5,
     "metadata": {},
     "output_type": "execute_result"
    }
   ],
   "source": [
    "response = requests.get(\"https://swapi.co/api/films/7\")\n",
    "data = response.json()\n",
    "data"
   ]
  },
  {
   "cell_type": "code",
   "execution_count": null,
   "metadata": {},
   "outputs": [],
   "source": []
  },
  {
   "cell_type": "code",
   "execution_count": null,
   "metadata": {},
   "outputs": [],
   "source": []
  },
  {
   "cell_type": "markdown",
   "metadata": {},
   "source": [
    "## 2) What is that film's name, and when was it released?\n",
    "\n",
    "Please print **only** the title and the release date. You can guess at the keys, but I recommend checking the documentation."
   ]
  },
  {
   "cell_type": "code",
   "execution_count": 9,
   "metadata": {},
   "outputs": [
    {
     "data": {
      "text/plain": [
       "'The Force Awakens'"
      ]
     },
     "execution_count": 9,
     "metadata": {},
     "output_type": "execute_result"
    }
   ],
   "source": [
    "data['title']"
   ]
  },
  {
   "cell_type": "code",
   "execution_count": 10,
   "metadata": {},
   "outputs": [
    {
     "data": {
      "text/plain": [
       "'2015-12-11'"
      ]
     },
     "execution_count": 10,
     "metadata": {},
     "output_type": "execute_result"
    }
   ],
   "source": [
    "data['release_date']"
   ]
  },
  {
   "cell_type": "markdown",
   "metadata": {},
   "source": [
    "## 3) But I want Han Solo! Use the API to search for people named \"Solo\"."
   ]
  },
  {
   "cell_type": "code",
   "execution_count": 15,
   "metadata": {},
   "outputs": [
    {
     "data": {
      "text/plain": [
       "{'count': 1,\n",
       " 'next': None,\n",
       " 'previous': None,\n",
       " 'results': [{'birth_year': '29BBY',\n",
       "   'created': '2014-12-10T16:49:14.582000Z',\n",
       "   'edited': '2014-12-20T21:17:50.334000Z',\n",
       "   'eye_color': 'brown',\n",
       "   'films': ['https://swapi.co/api/films/2/',\n",
       "    'https://swapi.co/api/films/3/',\n",
       "    'https://swapi.co/api/films/1/',\n",
       "    'https://swapi.co/api/films/7/'],\n",
       "   'gender': 'male',\n",
       "   'hair_color': 'brown',\n",
       "   'height': '180',\n",
       "   'homeworld': 'https://swapi.co/api/planets/22/',\n",
       "   'mass': '80',\n",
       "   'name': 'Han Solo',\n",
       "   'skin_color': 'fair',\n",
       "   'species': ['https://swapi.co/api/species/1/'],\n",
       "   'starships': ['https://swapi.co/api/starships/10/',\n",
       "    'https://swapi.co/api/starships/22/'],\n",
       "   'url': 'https://swapi.co/api/people/14/',\n",
       "   'vehicles': []}]}"
      ]
     },
     "execution_count": 15,
     "metadata": {},
     "output_type": "execute_result"
    }
   ],
   "source": [
    "response = requests.get(\"https://swapi.co/api/people/?search=solo\")\n",
    "data = response.json()\n",
    "data"
   ]
  },
  {
   "cell_type": "markdown",
   "metadata": {},
   "source": [
    "## 4) How many results did you get?\n",
    "\n",
    "Show **two different ways** of displaying this number.\n",
    "\n",
    "- *Tip: One uses the API, and one uses a Python function*"
   ]
  },
  {
   "cell_type": "code",
   "execution_count": 16,
   "metadata": {},
   "outputs": [
    {
     "data": {
      "text/plain": [
       "1"
      ]
     },
     "execution_count": 16,
     "metadata": {},
     "output_type": "execute_result"
    }
   ],
   "source": [
    "data['count']"
   ]
  },
  {
   "cell_type": "code",
   "execution_count": 17,
   "metadata": {},
   "outputs": [
    {
     "data": {
      "text/plain": [
       "1"
      ]
     },
     "execution_count": 17,
     "metadata": {},
     "output_type": "execute_result"
    }
   ],
   "source": [
    "len(data['results'])"
   ]
  },
  {
   "cell_type": "markdown",
   "metadata": {},
   "source": [
    "## 5) Write me a sentence about Han Solo\n",
    "\n",
    "Your sentence should be say `\"____ has _____ hair, is _____cm tall and weighs ____kg.\"` - make sure you have **no spcaes** between the numbers and `cm`/`kg`."
   ]
  },
  {
   "cell_type": "code",
   "execution_count": null,
   "metadata": {},
   "outputs": [],
   "source": []
  },
  {
   "cell_type": "markdown",
   "metadata": {},
   "source": [
    "## 5) Search for C-3PO"
   ]
  },
  {
   "cell_type": "code",
   "execution_count": 28,
   "metadata": {},
   "outputs": [
    {
     "data": {
      "text/plain": [
       "{'count': 1,\n",
       " 'next': None,\n",
       " 'previous': None,\n",
       " 'results': [{'birth_year': '112BBY',\n",
       "   'created': '2014-12-10T15:10:51.357000Z',\n",
       "   'edited': '2014-12-20T21:17:50.309000Z',\n",
       "   'eye_color': 'yellow',\n",
       "   'films': ['https://swapi.co/api/films/2/',\n",
       "    'https://swapi.co/api/films/5/',\n",
       "    'https://swapi.co/api/films/4/',\n",
       "    'https://swapi.co/api/films/6/',\n",
       "    'https://swapi.co/api/films/3/',\n",
       "    'https://swapi.co/api/films/1/'],\n",
       "   'gender': 'n/a',\n",
       "   'hair_color': 'n/a',\n",
       "   'height': '167',\n",
       "   'homeworld': 'https://swapi.co/api/planets/1/',\n",
       "   'mass': '75',\n",
       "   'name': 'C-3PO',\n",
       "   'skin_color': 'gold',\n",
       "   'species': ['https://swapi.co/api/species/2/'],\n",
       "   'starships': [],\n",
       "   'url': 'https://swapi.co/api/people/2/',\n",
       "   'vehicles': []}]}"
      ]
     },
     "execution_count": 28,
     "metadata": {},
     "output_type": "execute_result"
    }
   ],
   "source": [
    "response = requests.get(\"https://swapi.co/api/people/?search=C-3PO\")\n",
    "data = response.json()\n",
    "data"
   ]
  },
  {
   "cell_type": "markdown",
   "metadata": {},
   "source": [
    "## 6) What URL can tell me more about his species? Make a request to it.\n",
    "\n",
    "Spoiler: he's a **droid**. Are robots a species? I guess so, maybe."
   ]
  },
  {
   "cell_type": "code",
   "execution_count": 30,
   "metadata": {},
   "outputs": [
    {
     "data": {
      "text/plain": [
       "{'average_height': 'n/a',\n",
       " 'average_lifespan': 'indefinite',\n",
       " 'classification': 'artificial',\n",
       " 'created': '2014-12-10T15:16:16.259000Z',\n",
       " 'designation': 'sentient',\n",
       " 'edited': '2015-04-17T06:59:43.869528Z',\n",
       " 'eye_colors': 'n/a',\n",
       " 'films': ['https://swapi.co/api/films/2/',\n",
       "  'https://swapi.co/api/films/7/',\n",
       "  'https://swapi.co/api/films/5/',\n",
       "  'https://swapi.co/api/films/4/',\n",
       "  'https://swapi.co/api/films/6/',\n",
       "  'https://swapi.co/api/films/3/',\n",
       "  'https://swapi.co/api/films/1/'],\n",
       " 'hair_colors': 'n/a',\n",
       " 'homeworld': None,\n",
       " 'language': 'n/a',\n",
       " 'name': 'Droid',\n",
       " 'people': ['https://swapi.co/api/people/2/',\n",
       "  'https://swapi.co/api/people/3/',\n",
       "  'https://swapi.co/api/people/8/',\n",
       "  'https://swapi.co/api/people/23/',\n",
       "  'https://swapi.co/api/people/87/'],\n",
       " 'skin_colors': 'n/a',\n",
       " 'url': 'https://swapi.co/api/species/2/'}"
      ]
     },
     "execution_count": 30,
     "metadata": {},
     "output_type": "execute_result"
    }
   ],
   "source": [
    "response = requests.get(\"https://swapi.co/api/species/2/\")\n",
    "data = response.json()\n",
    "data"
   ]
  },
  {
   "cell_type": "markdown",
   "metadata": {},
   "source": [
    "## 7) Print out the URL of every droid\n",
    "\n",
    "* *Tip: life will be easier if you don't say `for droid in...` or `for person in` because you aren't looping through droids or people. What are you looping through?*"
   ]
  },
  {
   "cell_type": "code",
   "execution_count": 35,
   "metadata": {},
   "outputs": [
    {
     "name": "stdout",
     "output_type": "stream",
     "text": [
      "https://swapi.co/api/people/2/\n",
      "https://swapi.co/api/people/3/\n",
      "https://swapi.co/api/people/8/\n",
      "https://swapi.co/api/people/23/\n",
      "https://swapi.co/api/people/87/\n"
     ]
    }
   ],
   "source": [
    "for url in data['people']:\n",
    "    print(url)"
   ]
  },
  {
   "cell_type": "markdown",
   "metadata": {},
   "source": [
    "## 8) Print out the name of every droid\n",
    "\n",
    "* *Tip: You should start from the last answer, but add more stuff in!*\n",
    "* *Tip: You'll need to make a request every time you're in the loop*\n",
    "* *Tip: Be careful - f you re-use the variable name `data` you'll erase your old `data` variable*"
   ]
  },
  {
   "cell_type": "code",
   "execution_count": 38,
   "metadata": {},
   "outputs": [
    {
     "name": "stdout",
     "output_type": "stream",
     "text": [
      "C-3PO\n",
      "R2-D2\n",
      "R5-D4\n",
      "IG-88\n",
      "BB8\n"
     ]
    }
   ],
   "source": [
    "for droid in data['people']:\n",
    "    response = requests.get(droid)\n",
    "    droid_data = response.json()\n",
    "    print(droid_data['name'])"
   ]
  },
  {
   "cell_type": "markdown",
   "metadata": {},
   "source": [
    "## 9) Print out more about the droid\n",
    "\n",
    "Count the number of films for each droid, printing `\"___ was in ___ films\"` for each of them\n",
    "\n",
    "* *Tip: You might want to look at a single droid result, or print the data in the for loop, so you know how to get the films. Or read the documentation!*"
   ]
  },
  {
   "cell_type": "code",
   "execution_count": null,
   "metadata": {},
   "outputs": [],
   "source": []
  },
  {
   "cell_type": "markdown",
   "metadata": {},
   "source": [
    "## 10) Let's be smart and cache the results *[DIFFICULT, maybe!]*\n",
    "\n",
    "So far we've been using a for loop to go through each droid. Every droid, one more request. Every time we want more data, we run the loops again. I don't want that guy to get angry that we're asking for so much data!\n",
    "\n",
    "We want to our list of **droid urls** and turn it into a **list of dictionaries about those droids**. Save it as a variable called `droids`. If you get it correct, the following code should work if you cut and paste it.\n",
    "\n",
    "```python\n",
    "for droid in droids:\n",
    "    print(droid['name'])\n",
    "```\n",
    "\n",
    "* *Tip: Use a list comprehension*\n",
    "* *Tip: So far we've done `response = requests.get..` and `response.json()` on separate lines. You'll need to combine them!*"
   ]
  },
  {
   "cell_type": "code",
   "execution_count": 41,
   "metadata": {},
   "outputs": [],
   "source": [
    "droid_urls = data['people']\n",
    "droids = [requests.get(url).json() for url in droid_urls]"
   ]
  },
  {
   "cell_type": "code",
   "execution_count": 43,
   "metadata": {},
   "outputs": [
    {
     "name": "stdout",
     "output_type": "stream",
     "text": [
      "C-3PO\n",
      "R2-D2\n",
      "R5-D4\n",
      "IG-88\n",
      "BB8\n"
     ]
    }
   ],
   "source": [
    "for droid in droids:\n",
    "    print(droid['name'])"
   ]
  },
  {
   "cell_type": "markdown",
   "metadata": {},
   "source": [
    "## 11) Get a list of every single planet in the Star Wars universe\n",
    "\n",
    "* *Tip: You'll want to use the API documentation for this, I think*"
   ]
  },
  {
   "cell_type": "code",
   "execution_count": 44,
   "metadata": {},
   "outputs": [
    {
     "data": {
      "text/plain": [
       "{'count': 61,\n",
       " 'next': 'https://swapi.co/api/planets/?page=2',\n",
       " 'previous': None,\n",
       " 'results': [{'climate': 'temperate',\n",
       "   'created': '2014-12-10T11:35:48.479000Z',\n",
       "   'diameter': '12500',\n",
       "   'edited': '2014-12-20T20:58:18.420000Z',\n",
       "   'films': ['https://swapi.co/api/films/6/', 'https://swapi.co/api/films/1/'],\n",
       "   'gravity': '1 standard',\n",
       "   'name': 'Alderaan',\n",
       "   'orbital_period': '364',\n",
       "   'population': '2000000000',\n",
       "   'residents': ['https://swapi.co/api/people/5/',\n",
       "    'https://swapi.co/api/people/68/',\n",
       "    'https://swapi.co/api/people/81/'],\n",
       "   'rotation_period': '24',\n",
       "   'surface_water': '40',\n",
       "   'terrain': 'grasslands, mountains',\n",
       "   'url': 'https://swapi.co/api/planets/2/'},\n",
       "  {'climate': 'temperate, tropical',\n",
       "   'created': '2014-12-10T11:37:19.144000Z',\n",
       "   'diameter': '10200',\n",
       "   'edited': '2014-12-20T20:58:18.421000Z',\n",
       "   'films': ['https://swapi.co/api/films/1/'],\n",
       "   'gravity': '1 standard',\n",
       "   'name': 'Yavin IV',\n",
       "   'orbital_period': '4818',\n",
       "   'population': '1000',\n",
       "   'residents': [],\n",
       "   'rotation_period': '24',\n",
       "   'surface_water': '8',\n",
       "   'terrain': 'jungle, rainforests',\n",
       "   'url': 'https://swapi.co/api/planets/3/'},\n",
       "  {'climate': 'frozen',\n",
       "   'created': '2014-12-10T11:39:13.934000Z',\n",
       "   'diameter': '7200',\n",
       "   'edited': '2014-12-20T20:58:18.423000Z',\n",
       "   'films': ['https://swapi.co/api/films/2/'],\n",
       "   'gravity': '1.1 standard',\n",
       "   'name': 'Hoth',\n",
       "   'orbital_period': '549',\n",
       "   'population': 'unknown',\n",
       "   'residents': [],\n",
       "   'rotation_period': '23',\n",
       "   'surface_water': '100',\n",
       "   'terrain': 'tundra, ice caves, mountain ranges',\n",
       "   'url': 'https://swapi.co/api/planets/4/'},\n",
       "  {'climate': 'murky',\n",
       "   'created': '2014-12-10T11:42:22.590000Z',\n",
       "   'diameter': '8900',\n",
       "   'edited': '2014-12-20T20:58:18.425000Z',\n",
       "   'films': ['https://swapi.co/api/films/2/',\n",
       "    'https://swapi.co/api/films/6/',\n",
       "    'https://swapi.co/api/films/3/'],\n",
       "   'gravity': 'N/A',\n",
       "   'name': 'Dagobah',\n",
       "   'orbital_period': '341',\n",
       "   'population': 'unknown',\n",
       "   'residents': [],\n",
       "   'rotation_period': '23',\n",
       "   'surface_water': '8',\n",
       "   'terrain': 'swamp, jungles',\n",
       "   'url': 'https://swapi.co/api/planets/5/'},\n",
       "  {'climate': 'temperate',\n",
       "   'created': '2014-12-10T11:43:55.240000Z',\n",
       "   'diameter': '118000',\n",
       "   'edited': '2014-12-20T20:58:18.427000Z',\n",
       "   'films': ['https://swapi.co/api/films/2/'],\n",
       "   'gravity': '1.5 (surface), 1 standard (Cloud City)',\n",
       "   'name': 'Bespin',\n",
       "   'orbital_period': '5110',\n",
       "   'population': '6000000',\n",
       "   'residents': ['https://swapi.co/api/people/26/'],\n",
       "   'rotation_period': '12',\n",
       "   'surface_water': '0',\n",
       "   'terrain': 'gas giant',\n",
       "   'url': 'https://swapi.co/api/planets/6/'},\n",
       "  {'climate': 'temperate',\n",
       "   'created': '2014-12-10T11:50:29.349000Z',\n",
       "   'diameter': '4900',\n",
       "   'edited': '2014-12-20T20:58:18.429000Z',\n",
       "   'films': ['https://swapi.co/api/films/3/'],\n",
       "   'gravity': '0.85 standard',\n",
       "   'name': 'Endor',\n",
       "   'orbital_period': '402',\n",
       "   'population': '30000000',\n",
       "   'residents': ['https://swapi.co/api/people/30/'],\n",
       "   'rotation_period': '18',\n",
       "   'surface_water': '8',\n",
       "   'terrain': 'forests, mountains, lakes',\n",
       "   'url': 'https://swapi.co/api/planets/7/'},\n",
       "  {'climate': 'temperate',\n",
       "   'created': '2014-12-10T11:52:31.066000Z',\n",
       "   'diameter': '12120',\n",
       "   'edited': '2014-12-20T20:58:18.430000Z',\n",
       "   'films': ['https://swapi.co/api/films/5/',\n",
       "    'https://swapi.co/api/films/4/',\n",
       "    'https://swapi.co/api/films/6/',\n",
       "    'https://swapi.co/api/films/3/'],\n",
       "   'gravity': '1 standard',\n",
       "   'name': 'Naboo',\n",
       "   'orbital_period': '312',\n",
       "   'population': '4500000000',\n",
       "   'residents': ['https://swapi.co/api/people/3/',\n",
       "    'https://swapi.co/api/people/21/',\n",
       "    'https://swapi.co/api/people/36/',\n",
       "    'https://swapi.co/api/people/37/',\n",
       "    'https://swapi.co/api/people/38/',\n",
       "    'https://swapi.co/api/people/39/',\n",
       "    'https://swapi.co/api/people/42/',\n",
       "    'https://swapi.co/api/people/60/',\n",
       "    'https://swapi.co/api/people/61/',\n",
       "    'https://swapi.co/api/people/66/',\n",
       "    'https://swapi.co/api/people/35/'],\n",
       "   'rotation_period': '26',\n",
       "   'surface_water': '12',\n",
       "   'terrain': 'grassy hills, swamps, forests, mountains',\n",
       "   'url': 'https://swapi.co/api/planets/8/'},\n",
       "  {'climate': 'temperate',\n",
       "   'created': '2014-12-10T11:54:13.921000Z',\n",
       "   'diameter': '12240',\n",
       "   'edited': '2014-12-20T20:58:18.432000Z',\n",
       "   'films': ['https://swapi.co/api/films/5/',\n",
       "    'https://swapi.co/api/films/4/',\n",
       "    'https://swapi.co/api/films/6/',\n",
       "    'https://swapi.co/api/films/3/'],\n",
       "   'gravity': '1 standard',\n",
       "   'name': 'Coruscant',\n",
       "   'orbital_period': '368',\n",
       "   'population': '1000000000000',\n",
       "   'residents': ['https://swapi.co/api/people/34/',\n",
       "    'https://swapi.co/api/people/55/',\n",
       "    'https://swapi.co/api/people/74/'],\n",
       "   'rotation_period': '24',\n",
       "   'surface_water': 'unknown',\n",
       "   'terrain': 'cityscape, mountains',\n",
       "   'url': 'https://swapi.co/api/planets/9/'},\n",
       "  {'climate': 'temperate',\n",
       "   'created': '2014-12-10T12:45:06.577000Z',\n",
       "   'diameter': '19720',\n",
       "   'edited': '2014-12-20T20:58:18.434000Z',\n",
       "   'films': ['https://swapi.co/api/films/5/'],\n",
       "   'gravity': '1 standard',\n",
       "   'name': 'Kamino',\n",
       "   'orbital_period': '463',\n",
       "   'population': '1000000000',\n",
       "   'residents': ['https://swapi.co/api/people/22/',\n",
       "    'https://swapi.co/api/people/72/',\n",
       "    'https://swapi.co/api/people/73/'],\n",
       "   'rotation_period': '27',\n",
       "   'surface_water': '100',\n",
       "   'terrain': 'ocean',\n",
       "   'url': 'https://swapi.co/api/planets/10/'},\n",
       "  {'climate': 'temperate, arid',\n",
       "   'created': '2014-12-10T12:47:22.350000Z',\n",
       "   'diameter': '11370',\n",
       "   'edited': '2014-12-20T20:58:18.437000Z',\n",
       "   'films': ['https://swapi.co/api/films/5/'],\n",
       "   'gravity': '0.9 standard',\n",
       "   'name': 'Geonosis',\n",
       "   'orbital_period': '256',\n",
       "   'population': '100000000000',\n",
       "   'residents': ['https://swapi.co/api/people/63/'],\n",
       "   'rotation_period': '30',\n",
       "   'surface_water': '5',\n",
       "   'terrain': 'rock, desert, mountain, barren',\n",
       "   'url': 'https://swapi.co/api/planets/11/'}]}"
      ]
     },
     "execution_count": 44,
     "metadata": {},
     "output_type": "execute_result"
    }
   ],
   "source": [
    "response = requests.get(\"https://swapi.co/api/planets/\")\n",
    "data = response.json()\n",
    "data"
   ]
  },
  {
   "cell_type": "markdown",
   "metadata": {},
   "source": [
    "## 12) How many plants are there? Show me two different ways of displaying the answer.\n",
    "\n",
    "* *Tip: They won't match*"
   ]
  },
  {
   "cell_type": "code",
   "execution_count": 47,
   "metadata": {},
   "outputs": [
    {
     "data": {
      "text/plain": [
       "61"
      ]
     },
     "execution_count": 47,
     "metadata": {},
     "output_type": "execute_result"
    }
   ],
   "source": [
    "data['count']"
   ]
  },
  {
   "cell_type": "code",
   "execution_count": 49,
   "metadata": {},
   "outputs": [
    {
     "data": {
      "text/plain": [
       "10"
      ]
     },
     "execution_count": 49,
     "metadata": {},
     "output_type": "execute_result"
    }
   ],
   "source": [
    "len(data['results'])"
   ]
  },
  {
   "cell_type": "code",
   "execution_count": null,
   "metadata": {},
   "outputs": [],
   "source": []
  },
  {
   "cell_type": "markdown",
   "metadata": {},
   "source": [
    "# These questions are all list comprehension questions, if you'd like\n",
    "\n",
    "## 13) Get the population of each of the planets\n",
    "\n",
    "* *Tip: Only use the 10 results for now*\n",
    "* *Tip: Use a list comprehension*"
   ]
  },
  {
   "cell_type": "code",
   "execution_count": 50,
   "metadata": {},
   "outputs": [
    {
     "data": {
      "text/plain": [
       "['2000000000',\n",
       " '1000',\n",
       " 'unknown',\n",
       " 'unknown',\n",
       " '6000000',\n",
       " '30000000',\n",
       " '4500000000',\n",
       " '1000000000000',\n",
       " '1000000000',\n",
       " '100000000000']"
      ]
     },
     "execution_count": 50,
     "metadata": {},
     "output_type": "execute_result"
    }
   ],
   "source": [
    "[planet['population'] for planet in data['results']]"
   ]
  },
  {
   "cell_type": "code",
   "execution_count": null,
   "metadata": {},
   "outputs": [],
   "source": []
  },
  {
   "cell_type": "code",
   "execution_count": null,
   "metadata": {},
   "outputs": [],
   "source": []
  },
  {
   "cell_type": "markdown",
   "metadata": {},
   "source": [
    "## 14) Get the population of each of the planets, EXCEPT the ones that have a population of `'unknown'`\n",
    "\n",
    "* *Tip: Use a list comprehension with a filter (that's the `..if..` part at the end)*"
   ]
  },
  {
   "cell_type": "code",
   "execution_count": 51,
   "metadata": {},
   "outputs": [
    {
     "data": {
      "text/plain": [
       "['2000000000',\n",
       " '1000',\n",
       " '6000000',\n",
       " '30000000',\n",
       " '4500000000',\n",
       " '1000000000000',\n",
       " '1000000000',\n",
       " '100000000000']"
      ]
     },
     "execution_count": 51,
     "metadata": {},
     "output_type": "execute_result"
    }
   ],
   "source": [
    "[planet['population'] for planet in data['results'] if planet['population'] != 'unknown']"
   ]
  },
  {
   "cell_type": "code",
   "execution_count": null,
   "metadata": {},
   "outputs": [],
   "source": []
  },
  {
   "cell_type": "code",
   "execution_count": null,
   "metadata": {},
   "outputs": [],
   "source": []
  },
  {
   "cell_type": "markdown",
   "metadata": {},
   "source": [
    "## 14) Add up the populations\n",
    "\n",
    "* *Tip: They're strings right now, so it isn't going to work unless you change something about them*"
   ]
  },
  {
   "cell_type": "code",
   "execution_count": 55,
   "metadata": {},
   "outputs": [],
   "source": [
    "total = sum([int(planet['population']) for planet in data['results'] if planet['population'] != 'unknown'])"
   ]
  },
  {
   "cell_type": "code",
   "execution_count": null,
   "metadata": {},
   "outputs": [],
   "source": []
  },
  {
   "cell_type": "code",
   "execution_count": null,
   "metadata": {},
   "outputs": [],
   "source": []
  },
  {
   "cell_type": "markdown",
   "metadata": {},
   "source": [
    "## 15) Print what percentage of the total population each planet has\n",
    "\n",
    "I would like the sentences to be `\"The planet ____ has a population of _____, which is ___% of the total population\"`. If we don't know the planet's population, say `\"We don't know the population of _____\"`.\n",
    "\n",
    "* *Tip: This finally uses a for loop, but also the result of the last question*"
   ]
  },
  {
   "cell_type": "code",
   "execution_count": 59,
   "metadata": {},
   "outputs": [
    {
     "name": "stdout",
     "output_type": "stream",
     "text": [
      "The planet Alderaan has a population of 2000000000 which is 0.18% of the total population\n",
      "The planet Yavin IV has a population of 1000 which is 0.0% of the total population\n",
      "We don't know the population of Hoth\n",
      "We don't know the population of Dagobah\n",
      "The planet Bespin has a population of 6000000 which is 0.0% of the total population\n",
      "The planet Endor has a population of 30000000 which is 0.0% of the total population\n",
      "The planet Naboo has a population of 4500000000 which is 0.41% of the total population\n",
      "The planet Coruscant has a population of 1000000000000 which is 90.29% of the total population\n",
      "The planet Kamino has a population of 1000000000 which is 0.09% of the total population\n",
      "The planet Geonosis has a population of 100000000000 which is 9.03% of the total population\n"
     ]
    }
   ],
   "source": [
    "for planet in data['results']:\n",
    "    if planet['population'] == 'unknown':\n",
    "        print(\"We don't know the population of\", planet['name'])\n",
    "    else:\n",
    "        percent = round(int(planet['population']) / total * 100, 2)\n",
    "        print(\"The planet {} has a population of {} which is {}% of the total population\".format(planet['name'], planet['population'], percent))"
   ]
  },
  {
   "cell_type": "code",
   "execution_count": null,
   "metadata": {},
   "outputs": [],
   "source": []
  }
 ],
 "metadata": {
  "kernelspec": {
   "display_name": "Python 3",
   "language": "python",
   "name": "python3"
  },
  "language_info": {
   "codemirror_mode": {
    "name": "ipython",
    "version": 3
   },
   "file_extension": ".py",
   "mimetype": "text/x-python",
   "name": "python",
   "nbconvert_exporter": "python",
   "pygments_lexer": "ipython3",
   "version": "3.6.4"
  }
 },
 "nbformat": 4,
 "nbformat_minor": 2
}
